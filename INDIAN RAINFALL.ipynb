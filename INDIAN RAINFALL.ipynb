{
 "cells": [
  {
   "cell_type": "code",
   "execution_count": null,
   "id": "b319fa1d",
   "metadata": {},
   "outputs": [],
   "source": [
    "import numpy as np\n",
    "import pandas as pd\n",
    "import matplotlib.pyplot as plt\n",
    "import seaborn as sb \n",
    "import seaborn as sns\n",
    "from sklearn.preprocessing import LabelEncoder\n",
    "from sklearn.preprocessing import StandardScaler\n",
    "from sklearn.ensemble import RandomForestRegressor\n",
    "from sklearn.linear_model import LinearRegression\n",
    "from sklearn.model_selection import train_test_split\n",
    "from sklearn.metrics import mean_squared_error, r2_score,mean_absolute_error\n",
    "from xgboost import XGBRegressor\n",
    "from sklearn.cluster import KMeans\n",
    "from sklearn.model_selection import TimeSeriesSplit\n",
    "from sklearn.cluster import KMeans"
   ]
  },
  {
   "cell_type": "code",
   "execution_count": null,
   "id": "5e3eb3d8",
   "metadata": {},
   "outputs": [],
   "source": [
    "df = pd.read_csv(\"../DataSets/rainfaLLIndia.csv\")"
   ]
  },
  {
   "cell_type": "code",
   "execution_count": null,
   "id": "f5013dc8",
   "metadata": {},
   "outputs": [],
   "source": [
    "df"
   ]
  },
  {
   "cell_type": "code",
   "execution_count": null,
   "id": "1b2751fb",
   "metadata": {},
   "outputs": [],
   "source": [
    "df['JUN-SEP'] = df[['JUN', 'JUL', 'AUG', 'SEP']].mean(axis=1)\n",
    "df['YoY_CHANGE'] = df.groupby('subdivision')['JUN-SEP'].diff()\n",
    "df['LAG1'] = df.groupby('subdivision')['JUN-SEP'].shift(1)\n"
   ]
  },
  {
   "cell_type": "code",
   "execution_count": null,
   "id": "246bace6",
   "metadata": {},
   "outputs": [],
   "source": [
    "df.dtypes"
   ]
  },
  {
   "cell_type": "code",
   "execution_count": null,
   "id": "e6f45c6c",
   "metadata": {},
   "outputs": [],
   "source": [
    "label=LabelEncoder()"
   ]
  },
  {
   "cell_type": "code",
   "execution_count": null,
   "id": "b99dc703",
   "metadata": {},
   "outputs": [],
   "source": [
    "df.subdivision=label.fit_transform(df.subdivision).astype('int64')"
   ]
  },
  {
   "cell_type": "code",
   "execution_count": null,
   "id": "a1b1c581",
   "metadata": {},
   "outputs": [],
   "source": [
    "df.isnull().sum()"
   ]
  },
  {
   "cell_type": "code",
   "execution_count": null,
   "id": "aef15273",
   "metadata": {},
   "outputs": [],
   "source": [
    "df.YoY_CHANGE.mean()"
   ]
  },
  {
   "cell_type": "code",
   "execution_count": null,
   "id": "b955c627",
   "metadata": {},
   "outputs": [],
   "source": [
    "df.YoY_CHANGE=df.YoY_CHANGE.fillna(211)"
   ]
  },
  {
   "cell_type": "code",
   "execution_count": null,
   "id": "1ad28331",
   "metadata": {},
   "outputs": [],
   "source": [
    "df.LAG1.mean()"
   ]
  },
  {
   "cell_type": "code",
   "execution_count": null,
   "id": "fe8b9745",
   "metadata": {},
   "outputs": [],
   "source": [
    "df.LAG1=df.LAG1.fillna(264)"
   ]
  },
  {
   "cell_type": "code",
   "execution_count": null,
   "id": "0d50629e",
   "metadata": {},
   "outputs": [],
   "source": []
  },
  {
   "cell_type": "markdown",
   "id": "51da7d24",
   "metadata": {},
   "source": [
    "# Phase2 :EDA"
   ]
  },
  {
   "cell_type": "code",
   "execution_count": null,
   "id": "9dd39004",
   "metadata": {},
   "outputs": [],
   "source": [
    "plt.figure(figsize=(12, 6))\n",
    "sns.lineplot(data=df.groupby('YEAR')['JUN-SEP'].mean().reset_index(), x='YEAR', y='JUN-SEP')\n",
    "plt.title(\"Average Monsoon Rainfall in India Over Years\")\n",
    "plt.show()\n"
   ]
  },
  {
   "cell_type": "code",
   "execution_count": null,
   "id": "6a7f48ea",
   "metadata": {},
   "outputs": [],
   "source": [
    "plt.figure(figsize=(10, 5))\n",
    "sns.histplot(df['JUN-SEP'], bins=30, kde=True)\n",
    "plt.title(\"Distribution of Monsoon Rainfall\")\n",
    "plt.show()"
   ]
  },
  {
   "cell_type": "code",
   "execution_count": null,
   "id": "f2b3e5a0",
   "metadata": {},
   "outputs": [],
   "source": [
    "plt.figure(figsize=(10, 5))\n",
    "sns.boxplot(data=df[['JUN', 'JUL', 'AUG', 'SEP']])\n",
    "plt.title(\"Monthly Rainfall Distribution (All Subdivisions)\")\n",
    "plt.show()\n"
   ]
  },
  {
   "cell_type": "code",
   "execution_count": null,
   "id": "73760bfe",
   "metadata": {},
   "outputs": [],
   "source": [
    "monsoon_df = df[['JUN', 'JUL', 'AUG', 'SEP']]\n",
    "corr = monsoon_df.corr()\n",
    "sns.heatmap(corr, annot=True, cmap='coolwarm')\n",
    "plt.title(\"Correlation Matrix (Monsoon Months)\")\n",
    "plt.show()\n"
   ]
  },
  {
   "cell_type": "markdown",
   "id": "9fbf6151",
   "metadata": {},
   "source": [
    "# Phase 3: Machine Learning - Rainfall Prediction"
   ]
  },
  {
   "cell_type": "code",
   "execution_count": null,
   "id": "08d4a882",
   "metadata": {},
   "outputs": [],
   "source": []
  },
  {
   "cell_type": "code",
   "execution_count": null,
   "id": "eef214c2",
   "metadata": {},
   "outputs": [],
   "source": [
    "X = df.drop(['LAG1'],axis=1).values\n",
    "y=df['LAG1'].values\n"
   ]
  },
  {
   "cell_type": "code",
   "execution_count": null,
   "id": "d3419149",
   "metadata": {},
   "outputs": [],
   "source": [
    "tscv = TimeSeriesSplit(n_splits=5,test_size=30)\n",
    "results = []\n",
    "for fold, (train_idx, test_idx) in enumerate(tscv.split(X)):\n",
    "    xtrain, xtest = X[train_idx], X[test_idx]\n",
    "    ytrain, ytest = y[train_idx], y[test_idx]    "
   ]
  },
  {
   "cell_type": "code",
   "execution_count": null,
   "id": "96051275",
   "metadata": {},
   "outputs": [],
   "source": [
    "scaler = StandardScaler()    "
   ]
  },
  {
   "cell_type": "code",
   "execution_count": null,
   "id": "afe7f2e5",
   "metadata": {},
   "outputs": [],
   "source": [
    "xtrain.shape,ytrain.shape"
   ]
  },
  {
   "cell_type": "code",
   "execution_count": null,
   "id": "f0d0abee",
   "metadata": {},
   "outputs": [],
   "source": [
    "x_train = scaler.fit_transform(xtrain)\n",
    "x_test = scaler.transform(xtest)"
   ]
  },
  {
   "cell_type": "code",
   "execution_count": null,
   "id": "9cadbc44",
   "metadata": {},
   "outputs": [],
   "source": [
    "model = LinearRegression()\n",
    "model.fit(x_train,ytrain)\n",
    "    "
   ]
  },
  {
   "cell_type": "code",
   "execution_count": null,
   "id": "85b56867",
   "metadata": {},
   "outputs": [],
   "source": [
    "ypred = model.predict(x_test)"
   ]
  },
  {
   "cell_type": "code",
   "execution_count": null,
   "id": "8bfad377",
   "metadata": {},
   "outputs": [],
   "source": [
    "rmse = np.sqrt(mean_squared_error(ytest, ypred))\n",
    "mae = mean_absolute_error(ytest, ypred)\n",
    "r2 = r2_score(ytest, ypred)"
   ]
  },
  {
   "cell_type": "code",
   "execution_count": null,
   "id": "afaad23f",
   "metadata": {},
   "outputs": [],
   "source": [
    "rmse,mae,r2"
   ]
  },
  {
   "cell_type": "markdown",
   "id": "57e74676",
   "metadata": {},
   "source": [
    "# Random Forest"
   ]
  },
  {
   "cell_type": "code",
   "execution_count": null,
   "id": "891f3ad1",
   "metadata": {},
   "outputs": [],
   "source": [
    "model_Forest=RandomForestRegressor()\n",
    "model_Forest.fit(x_train,ytrain)\n",
    "RandomForestRegressor()"
   ]
  },
  {
   "cell_type": "markdown",
   "id": "046a9f6f",
   "metadata": {},
   "source": [
    "# Testing Accuracy"
   ]
  },
  {
   "cell_type": "code",
   "execution_count": null,
   "id": "9e8eb700",
   "metadata": {},
   "outputs": [],
   "source": [
    "ypred = model_Forest.predict(x_test)\n",
    "r2 = r2_score(ytest,ypred)\n",
    "r2*100"
   ]
  },
  {
   "cell_type": "markdown",
   "id": "290d0d0c",
   "metadata": {},
   "source": [
    "# Training Accuracy"
   ]
  },
  {
   "cell_type": "code",
   "execution_count": null,
   "id": "7f2ed7fb",
   "metadata": {},
   "outputs": [],
   "source": [
    "ypred = model_Forest.predict(x_train)\n",
    "r2 = r2_score(ytrain,ypred)\n",
    "r2*100"
   ]
  },
  {
   "cell_type": "markdown",
   "id": "07a69267",
   "metadata": {},
   "source": [
    "# Xgboost"
   ]
  },
  {
   "cell_type": "code",
   "execution_count": null,
   "id": "e272089a",
   "metadata": {},
   "outputs": [],
   "source": [
    "modelx=XGBRegressor()"
   ]
  },
  {
   "cell_type": "code",
   "execution_count": null,
   "id": "1033bd1e",
   "metadata": {},
   "outputs": [],
   "source": [
    "modelx.fit(x_train,ytrain)"
   ]
  },
  {
   "cell_type": "markdown",
   "id": "0d0e8065",
   "metadata": {},
   "source": [
    "# Testing"
   ]
  },
  {
   "cell_type": "code",
   "execution_count": null,
   "id": "c0a786ac",
   "metadata": {},
   "outputs": [],
   "source": [
    "ypred_xg = modelx.predict(x_test)\n",
    "r2_xg = r2_score(ytest,ypred_xg)\n",
    "r2*100"
   ]
  },
  {
   "cell_type": "markdown",
   "id": "dd636b48",
   "metadata": {},
   "source": [
    "# Training Accuracy¶"
   ]
  },
  {
   "cell_type": "code",
   "execution_count": null,
   "id": "a8b1e947",
   "metadata": {
    "scrolled": true
   },
   "outputs": [],
   "source": [
    "ypred_xg = model_Forest.predict(x_train)\n",
    "r2_xg= r2_score(ytrain,ypred)\n",
    "r2*100"
   ]
  },
  {
   "cell_type": "markdown",
   "id": "c001f5a3",
   "metadata": {},
   "source": [
    "#  Plot Actual vs Predicted\n"
   ]
  },
  {
   "cell_type": "code",
   "execution_count": null,
   "id": "4d476577",
   "metadata": {},
   "outputs": [],
   "source": [
    "plt.figure(figsize=(28, 8))\n",
    "plt.subplot(3, 2, fold + 2)\n",
    "plt.plot(ytest, label='Actual', marker='o')\n",
    "plt.plot(ypred, label='Predicted', marker='x')\n",
    "plt.title(f'Fold {fold+1} — RMSE: {rmse:.2f}, R²: {r2:.2f}')\n",
    "plt.xlabel(\"Sample Index\")\n",
    "plt.ylabel(\"Rainfall (JUN-SEP)\")\n",
    "plt.legend()\n",
    "\n",
    "plt.tight_layout()\n",
    "plt.suptitle(\"Predictions vs Actuals for Each Fold\", fontsize=16, y=1.02)\n",
    "plt.show()"
   ]
  },
  {
   "cell_type": "code",
   "execution_count": null,
   "id": "23c6098c",
   "metadata": {},
   "outputs": [],
   "source": []
  },
  {
   "cell_type": "code",
   "execution_count": null,
   "id": "3fa3423d",
   "metadata": {},
   "outputs": [],
   "source": []
  },
  {
   "cell_type": "markdown",
   "id": "fa684150",
   "metadata": {},
   "source": [
    "# Phase 4 Advance Analysis\n"
   ]
  },
  {
   "cell_type": "markdown",
   "id": "293a986a",
   "metadata": {},
   "source": [
    "#  Data for Clustering"
   ]
  },
  {
   "cell_type": "code",
   "execution_count": null,
   "id": "13019e0d",
   "metadata": {},
   "outputs": [],
   "source": [
    "subdiv_avg = df.groupby('subdivision')['JUN-SEP'].mean().reset_index()\n",
    "X_clust = subdiv_avg[['JUN-SEP']]\n"
   ]
  },
  {
   "cell_type": "markdown",
   "id": "3c9d3c9e",
   "metadata": {},
   "source": [
    "# K-Means"
   ]
  },
  {
   "cell_type": "code",
   "execution_count": null,
   "id": "d80104b9",
   "metadata": {},
   "outputs": [],
   "source": [
    "kmeans = KMeans(n_clusters=4, random_state=42)\n",
    "subdiv_avg['Cluster'] = kmeans.fit_predict(X_clust)\n"
   ]
  },
  {
   "cell_type": "markdown",
   "id": "c7355912",
   "metadata": {},
   "source": [
    "#  Visualize the Clusters"
   ]
  },
  {
   "cell_type": "code",
   "execution_count": null,
   "id": "676cb52d",
   "metadata": {},
   "outputs": [],
   "source": [
    "subdiv_avg_sorted = subdiv_avg.sort_values(by='JUN-SEP')\n",
    "plt.figure(figsize=(14, 6))\n",
    "sns.barplot(x='subdivision', y='JUN-SEP', hue='Cluster', data=subdiv_avg_sorted, dodge=False, palette='Set2')\n",
    "plt.xticks(rotation=90)\n",
    "plt.title(\"Subdivision Clusters Based on Average Monsoon Rainfall\")\n",
    "plt.ylabel(\"Avg JUN-SEP Rainfall (mm)\")\n",
    "plt.tight_layout()\n",
    "plt.show()\n"
   ]
  },
  {
   "cell_type": "markdown",
   "id": "006b4da8",
   "metadata": {},
   "source": [
    "# Plot with linear"
   ]
  },
  {
   "cell_type": "code",
   "execution_count": null,
   "id": "2e191a93",
   "metadata": {},
   "outputs": [],
   "source": [
    "df_avg_year = df.groupby('YEAR')['JUN-SEP'].mean().reset_index()\n",
    "sns.lmplot(data=df_avg_year, x='YEAR', y='JUN-SEP', aspect=2, height=6)\n",
    "plt.title(\"🇮🇳 All-India Average Monsoon Rainfall Trend\")\n",
    "plt.ylabel(\"Avg Rainfall (JUN-SEP)\")\n",
    "plt.xlabel(\"Year\")\n",
    "plt.grid(True)\n",
    "plt.show()\n"
   ]
  },
  {
   "cell_type": "markdown",
   "id": "72306e22",
   "metadata": {},
   "source": [
    "# Plot with Random Forest"
   ]
  },
  {
   "cell_type": "code",
   "execution_count": null,
   "id": "ea3cc24e",
   "metadata": {},
   "outputs": [],
   "source": [
    "df_rf = df_avg_year.copy()\n",
    "X_rf = df_rf[['YEAR']].values\n",
    "y_rf = df_rf['JUN-SEP'].values\n",
    "rf = RandomForestRegressor(n_estimators=100, random_state=42)\n",
    "rf.fit(X_rf, y_rf)\n",
    "df_rf['Predicted'] = rf.predict(X_rf)\n",
    "plt.figure(figsize=(12, 6))\n",
    "plt.plot(df_rf['YEAR'], df_rf['JUN-SEP'], label='Actual', marker='o')\n",
    "plt.plot(df_rf['YEAR'], df_rf['Predicted'], label='Random Forest Prediction', marker='x')\n",
    "plt.title(\"🇮🇳 All-India Avg Monsoon Rainfall Trend (Random Forest)\")\n",
    "plt.xlabel(\"Year\")\n",
    "plt.ylabel(\"Avg Rainfall (JUN-SEP)\")\n",
    "plt.grid(True)\n",
    "plt.legend()\n",
    "plt.show()\n"
   ]
  },
  {
   "cell_type": "code",
   "execution_count": null,
   "id": "a1f13ee0",
   "metadata": {},
   "outputs": [],
   "source": []
  },
  {
   "cell_type": "code",
   "execution_count": null,
   "id": "9dd7f5c4",
   "metadata": {},
   "outputs": [],
   "source": []
  },
  {
   "cell_type": "code",
   "execution_count": null,
   "id": "b28b229b",
   "metadata": {},
   "outputs": [],
   "source": []
  },
  {
   "cell_type": "code",
   "execution_count": null,
   "id": "fc2aad8f",
   "metadata": {},
   "outputs": [],
   "source": []
  }
 ],
 "metadata": {
  "kernelspec": {
   "display_name": "Python 3 (ipykernel)",
   "language": "python",
   "name": "python3"
  },
  "language_info": {
   "codemirror_mode": {
    "name": "ipython",
    "version": 3
   },
   "file_extension": ".py",
   "mimetype": "text/x-python",
   "name": "python",
   "nbconvert_exporter": "python",
   "pygments_lexer": "ipython3",
   "version": "3.9.7"
  }
 },
 "nbformat": 4,
 "nbformat_minor": 5
}
